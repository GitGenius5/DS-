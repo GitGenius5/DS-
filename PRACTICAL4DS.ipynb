{
 "cells": [
  {
   "cell_type": "code",
   "execution_count": null,
   "id": "a032465b-cd26-41b9-8cad-3dd599fa23a3",
   "metadata": {},
   "outputs": [],
   "source": [
    "//BerkeleyClockSync.java\n",
    "import java.util.ArrayList;\n",
    "public class BerkeleyClockSync {\n",
    "public static void main(String[] args) {\n",
    "// Initialize the system clocks\n",
    "int[] systemClocks = { 10, 12, 13, 11, 14 };\n",
    "int masterClock = 0;\n",
    "// Print the initial system clocks\n",
    "System.out.print(\"System clocks: \");\n",
    "for (int clock : systemClocks) {\n",
    "System.out.print(clock + \" \");\n",
    "}\n",
    "System.out.println();\n",
    "// Calculate the average system clock\n",
    "int sum = 0;\n",
    "for (int clock : systemClocks) {\n",
    "sum += clock;\n",
    "}\n",
    "int averageClock = sum / systemClocks.length;\n",
    "// Calculate the time difference for each system clock\n",
    "ArrayList<Integer> timeDifferences = new ArrayList<>();\n",
    "for (int clock : systemClocks) {\n",
    "timeDifferences.add(averageClock - clock);\n",
    "}\n",
    "// Calculate the time adjustment for the master clock\n",
    "int timeAdjustment = 0; for (int difference : timeDifferences) {\n",
    "timeAdjustment += difference;\n",
    "}\n",
    "timeAdjustment /= timeDifferences.size();\n",
    "// Update the master clock\n",
    "masterClock = averageClock - timeAdjustment;\n",
    "// Print the updated system clocks and master clock\n",
    "System.out.print(\"Updated system clocks: \");\n",
    "for (int clock : systemClocks) {\n",
    "System.out.print((clock - timeAdjustment) + \" \");\n",
    "}\n",
    "System.out.println();\n",
    "System.out.println(\"Master clock: \" + masterClock);\n",
    "}}\n",
    "\n",
    "COMMANDS:\n",
    " Javac BerkeleyClockSync.java\n",
    "Java BerkeleyClockSync\n",
    "\n",
    "\n"
   ]
  }
 ],
 "metadata": {
  "kernelspec": {
   "display_name": "Python 3 (ipykernel)",
   "language": "python",
   "name": "python3"
  },
  "language_info": {
   "codemirror_mode": {
    "name": "ipython",
    "version": 3
   },
   "file_extension": ".py",
   "mimetype": "text/x-python",
   "name": "python",
   "nbconvert_exporter": "python",
   "pygments_lexer": "ipython3",
   "version": "3.12.7"
  }
 },
 "nbformat": 4,
 "nbformat_minor": 5
}
